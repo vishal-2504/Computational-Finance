{
  "nbformat": 4,
  "nbformat_minor": 0,
  "metadata": {
    "colab": {
      "name": "CF_lab6.ipynb",
      "provenance": [],
      "collapsed_sections": []
    },
    "kernelspec": {
      "name": "python3",
      "display_name": "Python 3"
    },
    "language_info": {
      "name": "python"
    }
  },
  "cells": [
    {
      "cell_type": "code",
      "metadata": {
        "id": "9K7v5Sah1-eG"
      },
      "source": [
        "import numpy as np\n",
        "import matplotlib.pyplot as plt\n",
        "from scipy.stats import norm\n",
        "import pandas as pd"
      ],
      "execution_count": null,
      "outputs": []
    },
    {
      "cell_type": "code",
      "metadata": {
        "id": "bc7uvIrgmVz_"
      },
      "source": [
        "def nd1(s,k,r,sigma,t):\n",
        "  x1=np.log(s/k)+(r+(sigma*sigma)/2)*t;\n",
        "  x2=sigma*np.sqrt(t)\n",
        "  x=norm.cdf(x1/x2)\n",
        "  return round(x,3)"
      ],
      "execution_count": null,
      "outputs": []
    },
    {
      "cell_type": "code",
      "metadata": {
        "colab": {
          "base_uri": "https://localhost:8080/"
        },
        "id": "AKmBJY-znSIZ",
        "outputId": "b9928244-3f26-4572-e845-9b60ed0765c9"
      },
      "source": [
        "sp=pd.read_csv('data.csv')\n",
        "stock_price=sp['Stock price($)']\n",
        "\n",
        "k=50 # Strike Price\n",
        "s0=49.00 # Initial Stock Price\n",
        "r=0.05 # Interest Rate\n",
        "sigma=0.2 \n",
        "options=100000\n",
        "T=20\n",
        "delta=[]\n",
        "t=T\n",
        "for i in stock_price:\n",
        "  delta.append(nd1(i,k,r,sigma,t/52))\n",
        "  t-=1\n",
        "\n",
        "bought_shares=[]\n",
        "shares=0\n",
        "for i in delta:\n",
        "  bought_shares.append((i-shares)*options)\n",
        "  shares=i\n",
        "\n",
        "cost_purch=[]\n",
        "for i in range(len(stock_price)):\n",
        "  cost_purch.append(bought_shares[i]*stock_price[i])\n",
        "\n",
        "prev=0\n",
        "cumu_cost=[]\n",
        "for i in range(len(cost_purch)):\n",
        "  temp=prev*(1+r/52)\n",
        "  temp+=cost_purch[i]\n",
        "  cumu_cost.append(temp)\n",
        "  prev=cumu_cost[-1]\n",
        "\n",
        "interest_cost=[]\n",
        "for i in cumu_cost:\n",
        "  x=i*r/52\n",
        "  interest_cost.append(x)\n",
        "interest_cost[-1]=0"
      ],
      "execution_count": null,
      "outputs": [
        {
          "output_type": "stream",
          "text": [
            "/usr/local/lib/python3.7/dist-packages/ipykernel_launcher.py:4: RuntimeWarning: divide by zero encountered in double_scalars\n",
            "  after removing the cwd from sys.path.\n"
          ],
          "name": "stderr"
        }
      ]
    },
    {
      "cell_type": "code",
      "metadata": {
        "colab": {
          "base_uri": "https://localhost:8080/",
          "height": 708
        },
        "id": "9jJoJ0Jh5gX5",
        "outputId": "49545626-fc5c-4bf9-d601-a419a653dda2"
      },
      "source": [
        "df = pd.DataFrame(columns=['Stock price','Delta','Shares Purchased','Cost of shares Purchased ','Cumulative Cost including interest','Interest cost'])\n",
        "i = int(0)\n",
        "for j in range(len(stock_price)):\n",
        "  df.loc[i] = [stock_price[i],delta[i],bought_shares[i],cost_purch[i],cumu_cost[i],interest_cost[i]]\n",
        "  i = i+1\n",
        "\n",
        "df"
      ],
      "execution_count": null,
      "outputs": [
        {
          "output_type": "execute_result",
          "data": {
            "text/html": [
              "<div>\n",
              "<style scoped>\n",
              "    .dataframe tbody tr th:only-of-type {\n",
              "        vertical-align: middle;\n",
              "    }\n",
              "\n",
              "    .dataframe tbody tr th {\n",
              "        vertical-align: top;\n",
              "    }\n",
              "\n",
              "    .dataframe thead th {\n",
              "        text-align: right;\n",
              "    }\n",
              "</style>\n",
              "<table border=\"1\" class=\"dataframe\">\n",
              "  <thead>\n",
              "    <tr style=\"text-align: right;\">\n",
              "      <th></th>\n",
              "      <th>Stock price</th>\n",
              "      <th>Delta</th>\n",
              "      <th>Shares Purchased</th>\n",
              "      <th>Cost of shares Purchased</th>\n",
              "      <th>Cumulative Cost including interest</th>\n",
              "      <th>Interest cost</th>\n",
              "    </tr>\n",
              "  </thead>\n",
              "  <tbody>\n",
              "    <tr>\n",
              "      <th>0</th>\n",
              "      <td>49.00</td>\n",
              "      <td>0.522</td>\n",
              "      <td>52200.0</td>\n",
              "      <td>2557800.0</td>\n",
              "      <td>2.557800e+06</td>\n",
              "      <td>2459.423077</td>\n",
              "    </tr>\n",
              "    <tr>\n",
              "      <th>1</th>\n",
              "      <td>48.12</td>\n",
              "      <td>0.458</td>\n",
              "      <td>-6400.0</td>\n",
              "      <td>-307968.0</td>\n",
              "      <td>2.252291e+06</td>\n",
              "      <td>2165.664830</td>\n",
              "    </tr>\n",
              "    <tr>\n",
              "      <th>2</th>\n",
              "      <td>47.37</td>\n",
              "      <td>0.400</td>\n",
              "      <td>-5800.0</td>\n",
              "      <td>-274746.0</td>\n",
              "      <td>1.979711e+06</td>\n",
              "      <td>1903.568354</td>\n",
              "    </tr>\n",
              "    <tr>\n",
              "      <th>3</th>\n",
              "      <td>50.25</td>\n",
              "      <td>0.596</td>\n",
              "      <td>19600.0</td>\n",
              "      <td>984900.0</td>\n",
              "      <td>2.966515e+06</td>\n",
              "      <td>2852.417939</td>\n",
              "    </tr>\n",
              "    <tr>\n",
              "      <th>4</th>\n",
              "      <td>51.75</td>\n",
              "      <td>0.693</td>\n",
              "      <td>9700.0</td>\n",
              "      <td>501975.0</td>\n",
              "      <td>3.471342e+06</td>\n",
              "      <td>3337.828917</td>\n",
              "    </tr>\n",
              "    <tr>\n",
              "      <th>5</th>\n",
              "      <td>53.12</td>\n",
              "      <td>0.774</td>\n",
              "      <td>8100.0</td>\n",
              "      <td>430272.0</td>\n",
              "      <td>3.904952e+06</td>\n",
              "      <td>3754.761445</td>\n",
              "    </tr>\n",
              "    <tr>\n",
              "      <th>6</th>\n",
              "      <td>53.00</td>\n",
              "      <td>0.771</td>\n",
              "      <td>-300.0</td>\n",
              "      <td>-15900.0</td>\n",
              "      <td>3.892807e+06</td>\n",
              "      <td>3743.083331</td>\n",
              "    </tr>\n",
              "    <tr>\n",
              "      <th>7</th>\n",
              "      <td>51.87</td>\n",
              "      <td>0.706</td>\n",
              "      <td>-6500.0</td>\n",
              "      <td>-337155.0</td>\n",
              "      <td>3.559395e+06</td>\n",
              "      <td>3422.494950</td>\n",
              "    </tr>\n",
              "    <tr>\n",
              "      <th>8</th>\n",
              "      <td>51.38</td>\n",
              "      <td>0.674</td>\n",
              "      <td>-3200.0</td>\n",
              "      <td>-164416.0</td>\n",
              "      <td>3.398401e+06</td>\n",
              "      <td>3267.693503</td>\n",
              "    </tr>\n",
              "    <tr>\n",
              "      <th>9</th>\n",
              "      <td>53.00</td>\n",
              "      <td>0.787</td>\n",
              "      <td>11300.0</td>\n",
              "      <td>598900.0</td>\n",
              "      <td>4.000569e+06</td>\n",
              "      <td>3846.700900</td>\n",
              "    </tr>\n",
              "    <tr>\n",
              "      <th>10</th>\n",
              "      <td>49.88</td>\n",
              "      <td>0.550</td>\n",
              "      <td>-23700.0</td>\n",
              "      <td>-1182156.0</td>\n",
              "      <td>2.822260e+06</td>\n",
              "      <td>2713.711190</td>\n",
              "    </tr>\n",
              "    <tr>\n",
              "      <th>11</th>\n",
              "      <td>48.50</td>\n",
              "      <td>0.413</td>\n",
              "      <td>-13700.0</td>\n",
              "      <td>-664450.0</td>\n",
              "      <td>2.160523e+06</td>\n",
              "      <td>2077.426297</td>\n",
              "    </tr>\n",
              "    <tr>\n",
              "      <th>12</th>\n",
              "      <td>49.88</td>\n",
              "      <td>0.542</td>\n",
              "      <td>12900.0</td>\n",
              "      <td>643452.0</td>\n",
              "      <td>2.806053e+06</td>\n",
              "      <td>2698.127668</td>\n",
              "    </tr>\n",
              "    <tr>\n",
              "      <th>13</th>\n",
              "      <td>50.37</td>\n",
              "      <td>0.591</td>\n",
              "      <td>4900.0</td>\n",
              "      <td>246813.0</td>\n",
              "      <td>3.055564e+06</td>\n",
              "      <td>2938.042214</td>\n",
              "    </tr>\n",
              "    <tr>\n",
              "      <th>14</th>\n",
              "      <td>52.13</td>\n",
              "      <td>0.768</td>\n",
              "      <td>17700.0</td>\n",
              "      <td>922701.0</td>\n",
              "      <td>3.981203e+06</td>\n",
              "      <td>3828.079754</td>\n",
              "    </tr>\n",
              "    <tr>\n",
              "      <th>15</th>\n",
              "      <td>51.88</td>\n",
              "      <td>0.759</td>\n",
              "      <td>-900.0</td>\n",
              "      <td>-46692.0</td>\n",
              "      <td>3.938339e+06</td>\n",
              "      <td>3786.864447</td>\n",
              "    </tr>\n",
              "    <tr>\n",
              "      <th>16</th>\n",
              "      <td>52.87</td>\n",
              "      <td>0.865</td>\n",
              "      <td>10600.0</td>\n",
              "      <td>560422.0</td>\n",
              "      <td>4.502548e+06</td>\n",
              "      <td>4329.372970</td>\n",
              "    </tr>\n",
              "    <tr>\n",
              "      <th>17</th>\n",
              "      <td>54.87</td>\n",
              "      <td>0.978</td>\n",
              "      <td>11300.0</td>\n",
              "      <td>620031.0</td>\n",
              "      <td>5.126908e+06</td>\n",
              "      <td>4929.719482</td>\n",
              "    </tr>\n",
              "    <tr>\n",
              "      <th>18</th>\n",
              "      <td>54.62</td>\n",
              "      <td>0.990</td>\n",
              "      <td>1200.0</td>\n",
              "      <td>65544.0</td>\n",
              "      <td>5.197382e+06</td>\n",
              "      <td>4997.482674</td>\n",
              "    </tr>\n",
              "    <tr>\n",
              "      <th>19</th>\n",
              "      <td>55.87</td>\n",
              "      <td>1.000</td>\n",
              "      <td>1000.0</td>\n",
              "      <td>55870.0</td>\n",
              "      <td>5.258249e+06</td>\n",
              "      <td>5056.009100</td>\n",
              "    </tr>\n",
              "    <tr>\n",
              "      <th>20</th>\n",
              "      <td>57.25</td>\n",
              "      <td>1.000</td>\n",
              "      <td>0.0</td>\n",
              "      <td>0.0</td>\n",
              "      <td>5.263305e+06</td>\n",
              "      <td>0.000000</td>\n",
              "    </tr>\n",
              "  </tbody>\n",
              "</table>\n",
              "</div>"
            ],
            "text/plain": [
              "    Stock price  Delta  ...  Cumulative Cost including interest  Interest cost\n",
              "0         49.00  0.522  ...                        2.557800e+06    2459.423077\n",
              "1         48.12  0.458  ...                        2.252291e+06    2165.664830\n",
              "2         47.37  0.400  ...                        1.979711e+06    1903.568354\n",
              "3         50.25  0.596  ...                        2.966515e+06    2852.417939\n",
              "4         51.75  0.693  ...                        3.471342e+06    3337.828917\n",
              "5         53.12  0.774  ...                        3.904952e+06    3754.761445\n",
              "6         53.00  0.771  ...                        3.892807e+06    3743.083331\n",
              "7         51.87  0.706  ...                        3.559395e+06    3422.494950\n",
              "8         51.38  0.674  ...                        3.398401e+06    3267.693503\n",
              "9         53.00  0.787  ...                        4.000569e+06    3846.700900\n",
              "10        49.88  0.550  ...                        2.822260e+06    2713.711190\n",
              "11        48.50  0.413  ...                        2.160523e+06    2077.426297\n",
              "12        49.88  0.542  ...                        2.806053e+06    2698.127668\n",
              "13        50.37  0.591  ...                        3.055564e+06    2938.042214\n",
              "14        52.13  0.768  ...                        3.981203e+06    3828.079754\n",
              "15        51.88  0.759  ...                        3.938339e+06    3786.864447\n",
              "16        52.87  0.865  ...                        4.502548e+06    4329.372970\n",
              "17        54.87  0.978  ...                        5.126908e+06    4929.719482\n",
              "18        54.62  0.990  ...                        5.197382e+06    4997.482674\n",
              "19        55.87  1.000  ...                        5.258249e+06    5056.009100\n",
              "20        57.25  1.000  ...                        5.263305e+06       0.000000\n",
              "\n",
              "[21 rows x 6 columns]"
            ]
          },
          "metadata": {
            "tags": []
          },
          "execution_count": 18
        }
      ]
    },
    {
      "cell_type": "code",
      "metadata": {
        "colab": {
          "base_uri": "https://localhost:8080/",
          "height": 313
        },
        "id": "S9mXsBLxAFFh",
        "outputId": "09804382-d78f-4ef2-fb1f-1924d0fe83e2"
      },
      "source": [
        "t=np.arange(0,T+1,1)\n",
        "for i in range(len(delta)):\n",
        "  plt.plot(t[i],delta[i],'ro')\n",
        "plt.plot(t,delta)\n",
        "plt.title('Delta vs t')\n",
        "plt.xlabel('t (in weeks)')\n",
        "plt.ylabel('Value of Delta')"
      ],
      "execution_count": null,
      "outputs": [
        {
          "output_type": "execute_result",
          "data": {
            "text/plain": [
              "Text(0, 0.5, 'Delta value')"
            ]
          },
          "metadata": {
            "tags": []
          },
          "execution_count": 19
        },
        {
          "output_type": "display_data",
          "data": {
            "image/png": "[encoded data removed]",
            "text/plain": [
              "<Figure size 432x288 with 1 Axes>"
            ]
          },
          "metadata": {
            "tags": [],
            "needs_background": "light"
          }
        }
      ]
    },
    {
      "cell_type": "code",
      "metadata": {
        "colab": {
          "base_uri": "https://localhost:8080/"
        },
        "id": "X9IA9ehbuNsd",
        "outputId": "473d1243-43af-47c3-aa87-fa2591efcfc9"
      },
      "source": [
        "if stock_price[T]>=k:\n",
        "  print('Option will get exercised');\n",
        "  print('Hedger will receive $',options_sold*k)\n",
        "  x=cumulative_cost[-1]- options_sold*k\n",
        "  print('Cost of writing the option and hedging is= $',x)\n",
        "else:\n",
        "  print('Option will not get exercised');\n",
        "  x=cumulative_cost[-1]\n",
        "  print('Cost of writing the option and hedging is= $',x)"
      ],
      "execution_count": null,
      "outputs": [
        {
          "output_type": "stream",
          "text": [
            "Option will get exercised\n",
            "Hedger will receive $ 5000000\n",
            "Cost of writing the option and hedging is= $ 263305.4730421286\n"
          ],
          "name": "stdout"
        }
      ]
    }
  ]
}