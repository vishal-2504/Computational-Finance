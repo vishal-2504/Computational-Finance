{
  "nbformat": 4,
  "nbformat_minor": 0,
  "metadata": {
    "colab": {
      "name": "CF_LAB4.ipynb",
      "provenance": []
    },
    "kernelspec": {
      "name": "python3",
      "display_name": "Python 3"
    }
  },
  "cells": [
    {
      "cell_type": "code",
      "metadata": {
        "id": "a-HLFVMSfSAX"
      },
      "source": [
        "import numpy as np\n",
        "import matplotlib.pyplot as plt\n",
        "import pandas as pd\n",
        "import math\n",
        "from scipy.stats import norm"
      ],
      "execution_count": null,
      "outputs": []
    },
    {
      "cell_type": "code",
      "metadata": {
        "id": "HOtKxj0nglH6"
      },
      "source": [
        "#Black-Scholes Pricing model\n",
        "\n",
        "def BSMPrice(T,s0,mu,sigma,k):\n",
        "  d1 = (np.log(s0/k)+((mu+(1/2)*(sigma**2))*T))/(sigma*np.sqrt(T))\n",
        "  d2 = d1 - (sigma*np.sqrt(T))\n",
        "  Nd1 = norm.cdf(d1)\n",
        "  Nd2 = norm.cdf(d2)\n",
        "  c0 = s0*Nd1 - k*np.exp(-mu*T)*Nd2\n",
        "  return c0"
      ],
      "execution_count": null,
      "outputs": []
    },
    {
      "cell_type": "code",
      "metadata": {
        "id": "ErbgdtoFkNg3"
      },
      "source": [
        "#Function to generate Regular Brownian Motion\n",
        "def reg_brownian(T,step):\n",
        "  t=np.arange(0,T,step)\n",
        "  values=np.zeros(len(t))\n",
        "  values[0]=0\n",
        "  #np.random.seed(s)\n",
        "  for i in range(len(t)):\n",
        "    values[i]=values[i-1]+np.random.normal(0,1)\n",
        "  values=values*math.sqrt(step)\n",
        "  return values"
      ],
      "execution_count": null,
      "outputs": []
    },
    {
      "cell_type": "code",
      "metadata": {
        "id": "OEhHgChFk8fn"
      },
      "source": [
        "#Function to generate Geometric Brownian motion\n",
        "def geo_brownian(s0,mu,sigma,T,steps):\n",
        "  t=np.arange(0,T,steps)\n",
        "  w2=reg_brownian(T,steps)     #Taking brownian values\n",
        "  w=w2[-1]*sigma\n",
        "  y=mu-(sigma*sigma)/2\n",
        "  x=s0*math.exp(y*t[-1]+w)\n",
        "  ans=x\n",
        "  return ans"
      ],
      "execution_count": null,
      "outputs": []
    },
    {
      "cell_type": "code",
      "metadata": {
        "id": "KWpIx6zolTho"
      },
      "source": [
        "#generating monte-carlo for Geometric Brownian motion\n",
        "\n",
        "def monte_carlo(s0,mu,sigma,T,N,k):\n",
        "  steps=T/N\n",
        "  no_of_sim=10000\n",
        "  arr=np.zeros(no_of_sim)\n",
        "  for i in range(no_of_sim):\n",
        "    arr[i]=geo_brownian(s0,mu,sigma,T,steps)\n",
        "  for i in range(len(arr)):\n",
        "    arr[i]=max(0,arr[i]-k)\n",
        "  return np.array(arr)"
      ],
      "execution_count": null,
      "outputs": []
    },
    {
      "cell_type": "code",
      "metadata": {
        "id": "yoa0yEiNJe07"
      },
      "source": [
        "def generateRandoms(total_days,mu,sigma,N):\n",
        "  ret = []\n",
        "  for i in range(total_days):\n",
        "    temp = np.random.normal((mu-(1/2)*(sigma**2))*(1/N),sigma/np.sqrt(N))\n",
        "    ret.append(temp)\n",
        "  return ret"
      ],
      "execution_count": null,
      "outputs": []
    },
    {
      "cell_type": "code",
      "metadata": {
        "id": "Dqnrozq8JfqG"
      },
      "source": [
        "def sumOfdownInAndDownOut(randoms,s0,total_days,mu,sigma,N,v,k):\n",
        "  sd = np.zeros(total_days+1)\n",
        "  sd[0]=s0\n",
        "  for i in range(total_days):\n",
        "    sd[i+1]=sd[i]*np.exp(randoms[i])\n",
        "  I = 0\n",
        "  for i in range(len(sd)):\n",
        "    if sd[i]<v:\n",
        "      I=1\n",
        "      break\n",
        "  downInValue = (np.exp((-mu*total_days)/N))*I*max(0,sd[len(sd)-1]-k)\n",
        "  downOutValue = (np.exp((-mu*total_days)/N))*(1-I)*max(0,sd[len(sd)-1]-k)\n",
        "  return (downInValue+downOutValue)"
      ],
      "execution_count": null,
      "outputs": []
    },
    {
      "cell_type": "code",
      "metadata": {
        "id": "5q6_y1b48L4z"
      },
      "source": [
        "def finalMonteCarlo(s0,T,mu,sigma,N,k,v):\n",
        "  itr = 1000\n",
        "  monteCarlo = []\n",
        "  anthetic = []\n",
        "  iterations = []\n",
        "  steps=T/N\n",
        "  while itr <= 10000:\n",
        "    iterations.append(itr)\n",
        "    y1 = 0\n",
        "    y2 = 0\n",
        "    for i in range(itr):\n",
        "      randoms = generateRandoms(N,mu,sigma,N)\n",
        "      y1+= sumOfdownInAndDownOut(randoms,s0,N,mu,sigma,N,v,k)\n",
        "      x2 = geo_brownian(s0,mu,sigma,T,steps)\n",
        "      y2+=max(0,x2-k)\n",
        "    y1 = y1/itr\n",
        "    y2 = y2/itr\n",
        "    #y2=max(0,y2-k)\n",
        "    monteCarlo.append(y1)\n",
        "    anthetic.append(y2)\n",
        "    itr = itr + 1000\n",
        "  ret = []\n",
        "  ret.append(monteCarlo)\n",
        "  ret.append(anthetic)\n",
        "  ret.append(iterations)\n",
        "  return ret"
      ],
      "execution_count": null,
      "outputs": []
    },
    {
      "cell_type": "code",
      "metadata": {
        "colab": {
          "base_uri": "https://localhost:8080/",
          "height": 334
        },
        "id": "7xOizxx8hOCI",
        "outputId": "00d035f0-bd56-4690-ed55-4221aed87f2d"
      },
      "source": [
        "s0 = 50 \n",
        "k = 50 \n",
        "r = 0.05\n",
        "volatility = 0.3\n",
        "v = 45\n",
        "num_trading_days=252\n",
        "total_days = 252\n",
        "v=45\n",
        "T = 1\n",
        "BSMValue = BSMPrice(T,s0,r,volatility,k)\n",
        "#monte_gbm=monte_carlo(s0,r,volatility,T,num_trading_days,k)\n",
        "monteCarloValue = finalMonteCarlo(s0,T,r,volatility,num_trading_days,k,v)\n",
        "plt.plot(monteCarloValue[2],monteCarloValue[0],label='Monte -Binomial')\n",
        "plt.plot(monteCarloValue[2],monteCarloValue[1],label='Monte-carloGBM')\n",
        "bsm=[]\n",
        "for i in range(len(monteCarloValue[2])):\n",
        "  bsm.append(BSMValue)\n",
        "plt.plot(monteCarloValue[2],bsm,label='BSM')\n",
        "print(\"The BSM value of the option price is:\",BSMValue)\n",
        "print(\"The Monte-Carlo GBM simulation value of the option price is:\",np.mean(monteCarloValue[1]))\n",
        "print(\"The Monte-Carlo Binomial simulation value of the option price is:\",np.mean(monteCarloValue[0]))\n",
        "plt.xlabel('Number Of Simulations')\n",
        "plt.ylabel('Option Value')\n",
        "plt.legend()\n",
        "plt.show()"
      ],
      "execution_count": null,
      "outputs": [
        {
          "output_type": "stream",
          "text": [
            "The BSM value of the option price is: 7.115627392992909\n",
            "The Monte-Carlo GBM simulation value of the option price is: 7.468317435802253\n",
            "The Monte-Carlo Binomial simulation value of the option price is: 7.200269325688507\n"
          ],
          "name": "stdout"
        },
        {
          "output_type": "display_data",
          "data": {
            "image/png": "[encoded data removed]",
            "text/plain": [
              "<Figure size 432x288 with 1 Axes>"
            ]
          },
          "metadata": {
            "tags": [],
            "needs_background": "light"
          }
        }
      ]
    }
  ]
}